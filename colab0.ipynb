{
 "cells": [
  {
   "cell_type": "markdown",
   "metadata": {},
   "source": [
    "# CS224W - Colab 0"
   ]
  },
  {
   "cell_type": "markdown",
   "metadata": {},
   "source": [
    "NetworkX is a Python library designed to work with network structures and graphs. It's used to create, manipulate, analyze, and visualize networks and graphs efficiently. NetworkX provides tools for creating a variety of network types, ranging from simple graphs to directed and weighted graphs.\n",
    "\n",
    "Some key functionalities of NetworkX include:\n",
    "\n",
    "- Graph Creation: NetworkX allows you to create different types of graphs, including undirected graphs, directed graphs, multigraphs, and weighted graphs. Nodes and edges (or connections) can have associated attributes.\n",
    "- Graph Manipulation: You can add and remove nodes and edges, modify attributes of nodes and edges, and perform various operations on graphs, such as subsetting, combining, and copying.\n",
    "- Graph Analysis: The library provides a variety of algorithms and metrics for analyzing graphs. You can calculate properties such as node centrality, shortest paths, connectivity, and clustering, among others.\n",
    "- Graph Visualization: NetworkX also includes tools for effectively visualizing graphs. You can create visual plots to represent your networks and gain a better understanding of their structure.\n",
    "- Graph Algorithms: NetworkX implements various popular graph algorithms, such as search algorithms, network flow algorithms, shortest path algorithms, and more.\n",
    "- Integration with other libraries: NetworkX is compatible with other Python data analysis and visualization libraries like NumPy, SciPy, and Matplotlib, enabling smooth integration into larger data analysis workflows.\n",
    "\n",
    "Documentation [https://networkx.org](https://networkx.org)"
   ]
  },
  {
   "cell_type": "markdown",
   "metadata": {},
   "source": [
    "## Setup\n",
    "- Virtual environment with Conda\n",
    "- Jupyter and Visual Studio Code\n",
    "- Command `pip install networkx`\n",
    "- Macbook Pro - M1 Pro 16GB RAM\n"
   ]
  },
  {
   "cell_type": "code",
   "execution_count": 14,
   "metadata": {},
   "outputs": [],
   "source": [
    "# Import the NetworkX package\n",
    "import networkx as nx"
   ]
  },
  {
   "cell_type": "markdown",
   "metadata": {},
   "source": [
    "Introduction: a quick example:\n",
    "Use Dijkstra’s algorithm to find the shortest path in a weighted and unweighted network."
   ]
  },
  {
   "cell_type": "code",
   "execution_count": 15,
   "metadata": {},
   "outputs": [
    {
     "name": "stdout",
     "output_type": "stream",
     "text": [
      "['b', 'c', 'd']\n"
     ]
    }
   ],
   "source": [
    "g = nx.Graph() #empty graph\n",
    "g.add_edge('a', 'b', weight = 0.1)\n",
    "g.add_edge('b', 'c', weight = 1.5)\n",
    "g.add_edge('a', 'c', weight = 1.0)\n",
    "g.add_edge('c', 'd', weight = 2.2)\n",
    "print(nx.shortest_path(g, 'b', 'd'))"
   ]
  },
  {
   "cell_type": "code",
   "execution_count": 16,
   "metadata": {},
   "outputs": [
    {
     "name": "stdout",
     "output_type": "stream",
     "text": [
      "['b', 'a', 'c', 'd']\n"
     ]
    }
   ],
   "source": [
    "print(nx.shortest_path(g, 'b', 'd', weight='weight'))"
   ]
  },
  {
   "cell_type": "markdown",
   "metadata": {},
   "source": [
    "References\n",
    "- [shortest_path](https://networkx.org/documentation/stable/reference/algorithms/generated/networkx.algorithms.shortest_paths.generic.shortest_path.html)\n",
    "- [NetworkX: Network Analysis with Python](https://www.cl.cam.ac.uk/teaching/1314/L109/tutorial.pdf)\n",
    "- [Graph.add_edge](https://networkx.org/documentation/stable/reference/classes/generated/networkx.Graph.add_edge.html)"
   ]
  },
  {
   "cell_type": "markdown",
   "metadata": {},
   "source": [
    "## Node\n",
    "Nodes (with attributes) can be easily added to NetworkX graphs."
   ]
  },
  {
   "cell_type": "code",
   "execution_count": 17,
   "metadata": {},
   "outputs": [],
   "source": [
    "gNew = nx.Graph() #empty graph"
   ]
  },
  {
   "cell_type": "code",
   "execution_count": 18,
   "metadata": {},
   "outputs": [
    {
     "data": {
      "image/png": "[encoded data removed]",
      "text/plain": [
       "<Figure size 640x480 with 1 Axes>"
      ]
     },
     "metadata": {},
     "output_type": "display_data"
    }
   ],
   "source": [
    "gNew.add_node(1)\n",
    "nx.draw(gNew, with_labels = True) #Drawing"
   ]
  },
  {
   "cell_type": "code",
   "execution_count": 19,
   "metadata": {},
   "outputs": [
    {
     "data": {
      "image/png": "[encoded data removed]",
      "text/plain": [
       "<Figure size 640x480 with 1 Axes>"
      ]
     },
     "metadata": {},
     "output_type": "display_data"
    }
   ],
   "source": [
    "gNew.add_nodes_from([2, 3]) ##A list of nodes\n",
    "nx.draw(gNew, with_labels = True) #Drawing"
   ]
  },
  {
   "cell_type": "code",
   "execution_count": 20,
   "metadata": {},
   "outputs": [
    {
     "data": {
      "image/png": "[encoded data removed]",
      "text/plain": [
       "<Figure size 640x480 with 1 Axes>"
      ]
     },
     "metadata": {},
     "output_type": "display_data"
    }
   ],
   "source": [
    "h = nx.path_graph(5) #A container of nodes\n",
    "gNew.add_nodes_from(h)\n",
    "nx.draw(gNew, with_labels = True)"
   ]
  },
  {
   "cell_type": "markdown",
   "metadata": {},
   "source": [
    "Reference: \n",
    "- [path_graph(n, create_using=None)](https://networkx.org/documentation/stable/reference/generated/networkx.generators.classic.path_graph.html)"
   ]
  },
  {
   "cell_type": "code",
   "execution_count": 21,
   "metadata": {},
   "outputs": [
    {
     "data": {
      "image/png": "[encoded data removed]",
      "text/plain": [
       "<Figure size 640x480 with 1 Axes>"
      ]
     },
     "metadata": {},
     "output_type": "display_data"
    }
   ],
   "source": [
    "#You can also remove any node of the graph\n",
    "gNew.remove_node(2)\n",
    "nx.draw(gNew, with_labels = True)"
   ]
  },
  {
   "cell_type": "markdown",
   "metadata": {},
   "source": [
    "New Nodes with attributes"
   ]
  },
  {
   "cell_type": "code",
   "execution_count": 24,
   "metadata": {},
   "outputs": [
    {
     "name": "stdout",
     "output_type": "stream",
     "text": [
      "{'teacher': 'Jose', 'name': 'Computer Scince', 'students': 33}\n"
     ]
    }
   ],
   "source": [
    "G = nx.Graph() #empty graph\n",
    "G.add_node('course1', teacher='Jose', name='Computer Science', students=33)\n",
    "print(G.nodes['course1'])"
   ]
  },
  {
   "cell_type": "code",
   "execution_count": 26,
   "metadata": {},
   "outputs": [
    {
     "name": "stdout",
     "output_type": "stream",
     "text": [
      "{'teacher': 'Gloria', 'name': 'Desing', 'students': 25}\n"
     ]
    }
   ],
   "source": [
    "G.add_node('course2', teacher='Gloria', name='Desing', students=25)\n",
    "print(G.nodes['course2'])"
   ]
  },
  {
   "cell_type": "code",
   "execution_count": 28,
   "metadata": {},
   "outputs": [
    {
     "name": "stdout",
     "output_type": "stream",
     "text": [
      "{'teacher': 'Maria', 'name': 'Artificial Intelligence', 'students': 15, 'faculty': 'Science'}\n"
     ]
    }
   ],
   "source": [
    "G.add_node('course3', teacher='Maria', name='Artificial Intelligence', students=15, faculty='Science')\n",
    "print(G.nodes['course3'])"
   ]
  },
  {
   "cell_type": "code",
   "execution_count": 29,
   "metadata": {},
   "outputs": [
    {
     "data": {
      "text/plain": [
       "[('course1', {'teacher': 'Jose', 'name': 'Computer Scince', 'students': 33}),\n",
       " ('course2', {'teacher': 'Gloria', 'name': 'Desing', 'students': 25}),\n",
       " ('course3',\n",
       "  {'teacher': 'Maria',\n",
       "   'name': 'Artificial Intelligence',\n",
       "   'students': 15,\n",
       "   'faculty': 'Science'})]"
      ]
     },
     "execution_count": 29,
     "metadata": {},
     "output_type": "execute_result"
    }
   ],
   "source": [
    "list(G.nodes.data())"
   ]
  },
  {
   "cell_type": "code",
   "execution_count": 32,
   "metadata": {},
   "outputs": [
    {
     "name": "stdout",
     "output_type": "stream",
     "text": [
      "[('course1', {'teacher': 'Jose', 'name': 'Computer Scince', 'students': 33}), ('course2', {'teacher': 'Gloria', 'name': 'Desing', 'students': 25}), ('course3', {'teacher': 'Maria', 'name': 'Artificial Intelligence', 'students': 15, 'faculty': 'Science'})]\n",
      "('course3', {'teacher': 'Maria', 'name': 'Artificial Intelligence', 'students': 15, 'faculty': 'Science'})\n"
     ]
    }
   ],
   "source": [
    "listOfNodes = list(G.nodes.data())\n",
    "print(listOfNodes)\n",
    "print(listOfNodes[2])"
   ]
  },
  {
   "cell_type": "code",
   "execution_count": 30,
   "metadata": {},
   "outputs": [
    {
     "name": "stdout",
     "output_type": "stream",
     "text": [
      "('course1', {'teacher': 'Jose', 'name': 'Computer Scince', 'students': 33})\n",
      "('course2', {'teacher': 'Gloria', 'name': 'Desing', 'students': 25})\n",
      "('course3', {'teacher': 'Maria', 'name': 'Artificial Intelligence', 'students': 15, 'faculty': 'Science'})\n"
     ]
    }
   ],
   "source": [
    "# Loop through all the nodes\n",
    "# Set data=True will return node attributes\n",
    "for node in G.nodes(data=True):\n",
    "  print(node)"
   ]
  },
  {
   "cell_type": "markdown",
   "metadata": {},
   "source": [
    "## Edge\n",
    "Similar to nodes, edges (with attributes) can also be easily added to NetworkX graphs."
   ]
  },
  {
   "cell_type": "code",
   "execution_count": 33,
   "metadata": {},
   "outputs": [
    {
     "name": "stdout",
     "output_type": "stream",
     "text": [
      "Edge (0, 1) has the attributes {'weight': 0.5}\n"
     ]
    }
   ],
   "source": [
    "# Add one edge with edge weight 0.5\n",
    "G.add_edge(0, 1, weight=0.5)\n",
    "# Get attributes of the edge (0, 1)\n",
    "edge_0_1_attr = G.edges[(0, 1)]\n",
    "print(\"Edge (0, 1) has the attributes {}\".format(edge_0_1_attr))"
   ]
  },
  {
   "cell_type": "code",
   "execution_count": 35,
   "metadata": {},
   "outputs": [
    {
     "name": "stdout",
     "output_type": "stream",
     "text": [
      "(0, 1, {'weight': 0.5})\n",
      "(0, 2, {'weight': 0.1})\n",
      "(1, 2, {'weight': 0.3})\n",
      "G has 3 edges\n"
     ]
    }
   ],
   "source": [
    "# Add multiple edges with edge weights\n",
    "G.add_edges_from([\n",
    "  (1, 2, {\"weight\": 0.3}),\n",
    "  (2, 0, {\"weight\": 0.1})\n",
    "])\n",
    "\n",
    "# Loop through all the edges\n",
    "# Here there is no data=True, so only the edge will be returned\n",
    "for edge in G.edges(data=True):\n",
    "  print(edge)\n",
    "\n",
    "# Get number of edges\n",
    "num_edges = G.number_of_edges()\n",
    "print(\"G has {} edges\".format(num_edges))"
   ]
  },
  {
   "cell_type": "markdown",
   "metadata": {},
   "source": [
    "## Node Degree and Neighbor"
   ]
  },
  {
   "cell_type": "code",
   "execution_count": 36,
   "metadata": {},
   "outputs": [
    {
     "name": "stdout",
     "output_type": "stream",
     "text": [
      "Node 1 has degree 2\n",
      "Node 1 has neighbor 0\n",
      "Node 1 has neighbor 2\n"
     ]
    }
   ],
   "source": [
    "node_id = 1\n",
    "\n",
    "# Degree of node 1\n",
    "print(\"Node {} has degree {}\".format(node_id, G.degree[node_id]))\n",
    "\n",
    "# Get neighbor of node 1\n",
    "for neighbor in G.neighbors(node_id):\n",
    "  print(\"Node {} has neighbor {}\".format(node_id, neighbor))"
   ]
  }
 ],
 "metadata": {
  "kernelspec": {
   "display_name": "Python 3 (ipykernel)",
   "language": "python",
   "name": "python3"
  },
  "orig_nbformat": 4
 },
 "nbformat": 4,
 "nbformat_minor": 2
}
